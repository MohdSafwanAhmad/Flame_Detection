{
 "cells": [
  {
   "cell_type": "markdown",
   "metadata": {
    "colab_type": "text",
    "id": "V8-yl-s-WKMG"
   },
   "source": [
    "# Object Detection Demo\n",
    "Welcome to the object detection inference walkthrough!  This notebook will walk you step by step through the process of using a pre-trained model to detect objects in an image. Make sure to follow the [installation instructions](https://github.com/tensorflow/models/blob/master/research/object_detection/g3doc/installation.md) before you start."
   ]
  },
  {
   "cell_type": "markdown",
   "metadata": {
    "colab_type": "text",
    "id": "kFSqkTCdWKMI"
   },
   "source": [
    "# Imports"
   ]
  },
  {
   "cell_type": "code",
   "execution_count": 1,
   "metadata": {
    "colab": {
     "autoexec": {
      "startup": false,
      "wait_interval": 0
     }
    },
    "colab_type": "code",
    "id": "hV4P5gyTWKMI"
   },
   "outputs": [],
   "source": [
    "import numpy as np\n",
    "import os\n",
    "import six.moves.urllib as urllib\n",
    "import sys\n",
    "import tarfile\n",
    "import tensorflow as tf\n",
    "import zipfile\n",
    "\n",
    "import csv\n",
    "import pandas as pd\n",
    "   \n",
    "from distutils.version import StrictVersion\n",
    "from collections import defaultdict\n",
    "from io import StringIO\n",
    "from matplotlib import pyplot as plt\n",
    "from PIL import Image\n",
    "\n",
    "# This is needed since the notebook is stored in the object_detection folder.\n",
    "sys.path.append(\"..\")\n",
    "from object_detection.utils import ops as utils_ops\n",
    "\n",
    "if StrictVersion(tf.__version__) < StrictVersion('1.12.0'):\n",
    "  raise ImportError('Please upgrade your TensorFlow installation to v1.12.*.')\n"
   ]
  },
  {
   "cell_type": "markdown",
   "metadata": {
    "colab_type": "text",
    "id": "Wy72mWwAWKMK"
   },
   "source": [
    "## Env setup"
   ]
  },
  {
   "cell_type": "code",
   "execution_count": 2,
   "metadata": {
    "colab": {
     "autoexec": {
      "startup": false,
      "wait_interval": 0
     }
    },
    "colab_type": "code",
    "id": "v7m_NY_aWKMK"
   },
   "outputs": [],
   "source": [
    "# This is needed to display the images.\n",
    "%matplotlib inline"
   ]
  },
  {
   "cell_type": "markdown",
   "metadata": {
    "colab_type": "text",
    "id": "r5FNuiRPWKMN"
   },
   "source": [
    "## Object detection imports\n",
    "Here are the imports from the object detection module."
   ]
  },
  {
   "cell_type": "code",
   "execution_count": 3,
   "metadata": {
    "colab": {
     "autoexec": {
      "startup": false,
      "wait_interval": 0
     }
    },
    "colab_type": "code",
    "id": "bm0_uNRnWKMN"
   },
   "outputs": [],
   "source": [
    "from utils import label_map_util\n",
    "\n",
    "from utils import visualization_utils as vis_util"
   ]
  },
  {
   "cell_type": "markdown",
   "metadata": {
    "colab_type": "text",
    "id": "cfn_tRFOWKMO"
   },
   "source": [
    "# Model preparation "
   ]
  },
  {
   "cell_type": "markdown",
   "metadata": {
    "colab_type": "text",
    "id": "X_sEBLpVWKMQ"
   },
   "source": [
    "## Variables\n",
    "\n",
    "Any model exported using the `export_inference_graph.py` tool can be loaded here simply by changing `PATH_TO_FROZEN_GRAPH` to point to a new .pb file.  \n",
    "\n",
    "By default we use an \"SSD with Mobilenet\" model here. See the [detection model zoo](https://github.com/tensorflow/models/blob/master/research/object_detection/g3doc/detection_model_zoo.md) for a list of other models that can be run out-of-the-box with varying speeds and accuracies."
   ]
  },
  {
   "cell_type": "code",
   "execution_count": 4,
   "metadata": {
    "colab": {
     "autoexec": {
      "startup": false,
      "wait_interval": 0
     }
    },
    "colab_type": "code",
    "id": "VyPz_t8WWKMQ"
   },
   "outputs": [],
   "source": [
    "# What model to download.\n",
    "MODEL_NAME = 'flame_graph'\n",
    "\n",
    "# Path to frozen detection graph. This is the actual model that is used for the object detection.\n",
    "PATH_TO_FROZEN_GRAPH = MODEL_NAME + '/frozen_inference_graph.pb'\n",
    "\n",
    "# List of the strings that is used to add correct label for each box.\n",
    "PATH_TO_LABELS = os.path.join('training', 'label_map.pbtxt')"
   ]
  },
  {
   "cell_type": "markdown",
   "metadata": {
    "colab_type": "text",
    "id": "7ai8pLZZWKMS"
   },
   "source": [
    "## Download Model"
   ]
  },
  {
   "cell_type": "markdown",
   "metadata": {
    "colab_type": "text",
    "id": "YBcB9QHLWKMU"
   },
   "source": [
    "## Load a (frozen) Tensorflow model into memory."
   ]
  },
  {
   "cell_type": "code",
   "execution_count": 5,
   "metadata": {
    "colab": {
     "autoexec": {
      "startup": false,
      "wait_interval": 0
     }
    },
    "colab_type": "code",
    "id": "KezjCRVvWKMV"
   },
   "outputs": [],
   "source": [
    "detection_graph = tf.Graph()\n",
    "with detection_graph.as_default():\n",
    "  od_graph_def = tf.GraphDef()\n",
    "  with tf.gfile.GFile(PATH_TO_FROZEN_GRAPH, 'rb') as fid:\n",
    "    serialized_graph = fid.read()\n",
    "    od_graph_def.ParseFromString(serialized_graph)\n",
    "    tf.import_graph_def(od_graph_def, name='')"
   ]
  },
  {
   "cell_type": "markdown",
   "metadata": {
    "colab_type": "text",
    "id": "_1MVVTcLWKMW"
   },
   "source": [
    "## Loading label map\n",
    "Label maps map indices to category names, so that when our convolution network predicts `5`, we know that this corresponds to `airplane`.  Here we use internal utility functions, but anything that returns a dictionary mapping integers to appropriate string labels would be fine"
   ]
  },
  {
   "cell_type": "code",
   "execution_count": 6,
   "metadata": {
    "colab": {
     "autoexec": {
      "startup": false,
      "wait_interval": 0
     }
    },
    "colab_type": "code",
    "id": "hDbpHkiWWKMX"
   },
   "outputs": [
    {
     "name": "stdout",
     "output_type": "stream",
     "text": [
      "WARNING:tensorflow:From /home/safwan/project1/TensorFlow/models/research/object_detection/utils/label_map_util.py:137: The name tf.gfile.GFile is deprecated. Please use tf.io.gfile.GFile instead.\n",
      "\n"
     ]
    }
   ],
   "source": [
    "category_index = label_map_util.create_category_index_from_labelmap(PATH_TO_LABELS, use_display_name=True)"
   ]
  },
  {
   "cell_type": "markdown",
   "metadata": {
    "colab_type": "text",
    "id": "EFsoUHvbWKMZ"
   },
   "source": [
    "## Helper code"
   ]
  },
  {
   "cell_type": "code",
   "execution_count": 7,
   "metadata": {
    "colab": {
     "autoexec": {
      "startup": false,
      "wait_interval": 0
     }
    },
    "colab_type": "code",
    "id": "aSlYc3JkWKMa"
   },
   "outputs": [],
   "source": [
    "def load_image_into_numpy_array(image):\n",
    "  (im_width, im_height) = image.size\n",
    "  return np.array(image.getdata()).reshape(\n",
    "      (im_height, im_width, 3)).astype(np.uint8)"
   ]
  },
  {
   "cell_type": "markdown",
   "metadata": {
    "colab_type": "text",
    "id": "H0_1AGhrWKMc"
   },
   "source": [
    "# Detection"
   ]
  },
  {
   "cell_type": "code",
   "execution_count": 15,
   "metadata": {
    "colab": {
     "autoexec": {
      "startup": false,
      "wait_interval": 0
     }
    },
    "colab_type": "code",
    "id": "jG-zn5ykWKMd"
   },
   "outputs": [],
   "source": [
    "# For the sake of simplicity we will use only 2 images:\n",
    "# image1.jpg\n",
    "# image2.jpg\n",
    "# If you want to test the code with your images, just add path to the images to the TEST_IMAGE_PATHS.\n",
    "PATH_TO_TEST_IMAGES_DIR = 'test_images'\n",
    "TEST_IMAGE_PATHS = [ os.path.join(PATH_TO_TEST_IMAGES_DIR, 'rad_change_image{}.jpg'.format(i)) for i in range(1, 181) ]\n",
    "# Size, in inches, of the output images.\n",
    "IMAGE_SIZE = (12, 8)"
   ]
  },
  {
   "cell_type": "code",
   "execution_count": 16,
   "metadata": {
    "colab": {
     "autoexec": {
      "startup": false,
      "wait_interval": 0
     }
    },
    "colab_type": "code",
    "id": "92BHxzcNWKMf"
   },
   "outputs": [],
   "source": [
    "def run_inference_for_single_image(image, graph):\n",
    "  with graph.as_default():\n",
    "    with tf.Session() as sess:\n",
    "      # Get handles to input and output tensors\n",
    "      ops = tf.get_default_graph().get_operations()\n",
    "      all_tensor_names = {output.name for op in ops for output in op.outputs}\n",
    "      tensor_dict = {}\n",
    "      for key in [\n",
    "          'num_detections', 'detection_boxes', 'detection_scores',\n",
    "          'detection_classes', 'detection_masks'\n",
    "      ]:\n",
    "        tensor_name = key + ':0'\n",
    "        if tensor_name in all_tensor_names:\n",
    "          tensor_dict[key] = tf.get_default_graph().get_tensor_by_name(\n",
    "              tensor_name)\n",
    "      if 'detection_masks' in tensor_dict:\n",
    "        # The following processing is only for single image\n",
    "        detection_boxes = tf.squeeze(tensor_dict['detection_boxes'], [0])\n",
    "        detection_masks = tf.squeeze(tensor_dict['detection_masks'], [0])\n",
    "        # Reframe is required to translate mask from box coordinates to image coordinates and fit the image size.\n",
    "        real_num_detection = tf.cast(tensor_dict['num_detections'][0], tf.int32)\n",
    "        detection_boxes = tf.slice(detection_boxes, [0, 0], [real_num_detection, -1])\n",
    "        detection_masks = tf.slice(detection_masks, [0, 0, 0], [real_num_detection, -1, -1])\n",
    "        detection_masks_reframed = utils_ops.reframe_box_masks_to_image_masks(\n",
    "            detection_masks, detection_boxes, image.shape[1], image.shape[2])\n",
    "        detection_masks_reframed = tf.cast(\n",
    "            tf.greater(detection_masks_reframed, 0.5), tf.uint8)\n",
    "        # Follow the convention by adding back the batch dimension\n",
    "        tensor_dict['detection_masks'] = tf.expand_dims(\n",
    "            detection_masks_reframed, 0)\n",
    "      image_tensor = tf.get_default_graph().get_tensor_by_name('image_tensor:0')\n",
    "\n",
    "      # Run inference\n",
    "      output_dict = sess.run(tensor_dict,\n",
    "                             feed_dict={image_tensor: image})\n",
    "\n",
    "      # all outputs are float32 numpy arrays, so convert types as appropriate\n",
    "      output_dict['num_detections'] = int(output_dict['num_detections'][0])\n",
    "      output_dict['detection_classes'] = output_dict[\n",
    "          'detection_classes'][0].astype(np.int64)\n",
    "      output_dict['detection_boxes'] = output_dict['detection_boxes'][0]\n",
    "      output_dict['detection_scores'] = output_dict['detection_scores'][0]\n",
    "      if 'detection_masks' in output_dict:\n",
    "        output_dict['detection_masks'] = output_dict['detection_masks'][0]\n",
    "  return output_dict"
   ]
  },
  {
   "cell_type": "code",
   "execution_count": 17,
   "metadata": {
    "scrolled": false
   },
   "outputs": [
    {
     "name": "stdout",
     "output_type": "stream",
     "text": [
      "217.5 172.0 76.5\n",
      "217.5 172.5 79.5\n",
      "215.0 171.5 80.0\n",
      "215.0 172.0 80.0\n",
      "216.5 172.0 79.5\n",
      "216.5 172.0 79.5\n",
      "216.5 172.0 79.5\n",
      "215.0 169.5 81.0\n",
      "216.5 171.0 79.5\n",
      "217.0 170.5 79.0\n",
      "216.5 169.0 79.5\n",
      "215.5 171.5 80.5\n",
      "219.0 170.5 78.0\n",
      "214.5 171.0 79.5\n",
      "216.5 170.0 78.5\n",
      "215.0 172.0 80.0\n",
      "217.5 171.5 79.5\n",
      "216.5 173.0 79.5\n",
      "216.5 168.5 79.5\n",
      "216.5 171.5 79.5\n",
      "215.5 170.0 80.5\n",
      "213.5 172.5 79.5\n",
      "216.5 171.5 79.5\n",
      "217.5 170.0 78.5\n",
      "216.5 171.5 79.5\n",
      "216.0 171.0 80.0\n",
      "216.0 169.5 80.0\n",
      "216.5 173.0 79.5\n",
      "216.0 172.0 80.0\n",
      "216.5 170.5 79.5\n",
      "216.5 170.5 79.5\n",
      "216.0 170.0 80.0\n",
      "215.0 172.5 80.0\n",
      "215.0 172.5 80.0\n",
      "216.0 169.0 80.0\n",
      "215.5 173.5 79.5\n",
      "214.5 172.0 79.5\n",
      "216.5 171.5 79.5\n",
      "215.0 168.0 80.0\n",
      "215.5 171.5 80.5\n",
      "216.5 168.5 79.5\n",
      "216.0 173.0 79.0\n",
      "217.0 173.0 79.0\n",
      "215.0 173.0 80.0\n",
      "216.5 171.5 79.5\n",
      "219.0 171.0 78.0\n",
      "219.0 171.0 78.0\n",
      "215.0 169.5 80.0\n",
      "216.0 170.5 81.0\n",
      "216.0 170.5 81.0\n",
      "216.0 172.5 81.0\n",
      "216.0 171.5 81.0\n",
      "214.0 173.0 81.0\n",
      "217.0 173.0 80.0\n",
      "215.0 172.5 81.0\n",
      "213.0 172.0 81.0\n",
      "218.0 172.5 80.0\n",
      "214.0 174.0 81.0\n",
      "214.5 171.5 81.5\n",
      "214.5 172.0 81.5\n",
      "216.0 170.0 80.0\n",
      "216.0 172.0 80.0\n",
      "216.0 170.5 81.0\n",
      "215.0 172.5 81.0\n",
      "215.0 173.0 81.0\n",
      "217.0 170.5 80.0\n",
      "217.0 171.5 80.0\n",
      "216.5 170.5 80.5\n",
      "216.0 171.5 81.0\n",
      "215.0 170.5 81.0\n",
      "216.5 170.5 80.5\n",
      "215.5 169.0 81.5\n",
      "216.5 171.0 80.5\n",
      "215.5 171.5 80.5\n",
      "215.5 168.5 81.5\n",
      "214.5 172.0 81.5\n",
      "218.5 172.5 80.5\n",
      "215.0 171.0 81.0\n",
      "215.0 171.0 81.0\n",
      "215.5 172.5 80.5\n",
      "216.0 171.0 81.0\n",
      "216.0 171.5 81.0\n",
      "214.5 171.0 81.5\n",
      "216.5 171.0 80.5\n",
      "216.0 171.0 81.0\n",
      "214.5 170.5 81.5\n",
      "215.5 171.0 80.5\n",
      "215.0 171.5 81.0\n",
      "215.5 172.0 80.5\n",
      "214.5 170.0 81.5\n",
      "215.0 171.0 81.0\n",
      "215.0 170.0 81.0\n",
      "216.5 170.5 80.5\n",
      "215.0 171.0 81.0\n",
      "215.5 169.0 82.5\n",
      "213.5 169.0 83.5\n",
      "215.5 170.5 82.5\n",
      "217.0 169.5 83.0\n",
      "215.0 172.5 83.0\n",
      "215.0 170.5 83.0\n",
      "216.0 172.5 83.0\n",
      "217.5 170.0 83.5\n",
      "214.5 170.5 83.5\n",
      "214.0 170.0 83.0\n",
      "217.5 171.0 83.5\n",
      "214.5 171.5 82.5\n",
      "218.5 169.0 82.5\n",
      "216.5 169.5 82.5\n",
      "216.0 172.5 83.0\n",
      "214.0 170.0 83.0\n",
      "214.0 170.5 83.0\n",
      "215.0 171.0 83.0\n",
      "216.0 170.5 83.0\n",
      "215.0 170.5 83.0\n",
      "217.0 170.0 83.0\n",
      "214.0 171.0 83.0\n",
      "214.0 170.0 83.0\n",
      "214.0 171.0 83.0\n",
      "214.0 172.0 83.0\n",
      "215.5 173.0 82.5\n",
      "214.5 172.5 83.5\n",
      "216.5 170.5 82.5\n",
      "216.0 170.5 83.0\n",
      "215.0 171.5 83.0\n",
      "214.0 173.0 83.0\n",
      "215.5 169.5 83.5\n",
      "215.0 171.0 83.0\n",
      "214.5 171.0 82.5\n",
      "216.0 170.0 83.0\n",
      "215.0 171.0 83.0\n",
      "217.0 170.5 83.0\n",
      "219.5 169.0 82.5\n",
      "214.0 171.0 83.0\n",
      "216.0 170.5 83.0\n",
      "215.5 169.5 82.5\n",
      "216.0 171.5 83.0\n",
      "213.0 171.0 83.0\n",
      "216.5 169.0 85.5\n",
      "215.5 169.0 85.5\n",
      "215.0 171.5 86.0\n",
      "217.0 171.0 86.0\n",
      "216.5 172.0 86.5\n",
      "217.5 170.5 86.5\n",
      "215.5 168.0 86.5\n",
      "216.0 170.5 86.0\n",
      "216.0 170.5 86.0\n",
      "215.0 171.5 86.0\n",
      "213.5 171.0 85.5\n",
      "216.0 172.0 86.0\n",
      "218.0 171.0 86.0\n",
      "217.5 170.0 86.5\n",
      "214.0 171.5 86.0\n",
      "216.0 171.5 86.0\n",
      "214.5 171.5 85.5\n",
      "216.0 170.5 86.0\n",
      "215.0 169.5 86.0\n",
      "215.0 171.0 86.0\n",
      "214.5 171.0 85.5\n",
      "214.5 170.5 85.5\n",
      "216.0 173.0 86.0\n",
      "216.0 170.5 86.0\n",
      "215.0 171.5 86.0\n",
      "216.0 170.5 86.0\n",
      "218.0 170.0 86.0\n",
      "216.5 172.5 86.5\n",
      "216.0 171.0 86.0\n",
      "216.5 172.0 86.5\n",
      "215.0 171.5 86.0\n",
      "216.0 170.5 86.0\n",
      "213.5 171.0 85.5\n",
      "214.5 170.5 85.5\n",
      "215.0 171.5 86.0\n",
      "215.0 170.0 85.0\n",
      "212.0 169.5 85.0\n",
      "214.5 170.0 85.5\n",
      "215.5 169.0 85.5\n",
      "214.5 171.5 85.5\n",
      "216.0 170.5 86.0\n",
      "216.5 171.0 86.5\n",
      "216.0 171.0 86.0\n"
     ]
    }
   ],
   "source": [
    "i=0\n",
    "for image_path in TEST_IMAGE_PATHS:\n",
    "    i+=1\n",
    "    image = Image.open(image_path)\n",
    "    image_np =load_image_into_numpy_array(image)\n",
    "    image_np_expanded = np.expand_dims(image_np, axis = 0)\n",
    "    output_dict = run_inference_for_single_image(image_np_expanded, detection_graph)\n",
    "    vis_util.visualize_boxes_and_labels_on_image_array(image_np,\n",
    "                                                      output_dict['detection_boxes'],\n",
    "                                                      output_dict['detection_classes'],\n",
    "                                                      output_dict['detection_scores'],\n",
    "                                                      category_index,\n",
    "                                                      instance_masks=output_dict.get('detection_masks'),\n",
    "                                                      use_normalized_coordinates=True,\n",
    "                                                      line_thickness=2)\n",
    "    \n",
    "    \n",
    "    xmin = output_dict['detection_boxes'][0][0]\n",
    "    ymin = output_dict['detection_boxes'][0][1]\n",
    "    xmax = output_dict['detection_boxes'][0][2]\n",
    "    ymax = output_dict['detection_boxes'][0][3]\n",
    "    \n",
    "    xmin = round(xmin*434)\n",
    "    ymin = round(ymin*343)\n",
    "    xmax = round(xmax*434)\n",
    "    ymax = round(ymax*343)\n",
    "     \n",
    "    #print ('coordinates for image',i+160,'are:')\n",
    "    print ((xmin+xmax)/2, (ymin+ymax)/2, max((xmax-xmin)/2,(ymax-ymin)/2))\n",
    "    #print ('ymin=', ymin)\n",
    "    #print ('xmax=', xmax)\n",
    "    #print ('ymax=', ymax)\n",
    "    #print ('x_centre', (xmin+xmax)/2)\n",
    "    #print ('y_centre', (ymin+ymax)/2)\n",
    "    \n",
    "    #plt.figure(figsize=IMAGE_SIZE)\n",
    "    #plt.imshow(image_np)\n",
    "    #plt.savefig('input' + str(i)+ '.png')"
   ]
  },
  {
   "cell_type": "code",
   "execution_count": 18,
   "metadata": {},
   "outputs": [
    {
     "data": {
      "text/plain": [
       "\"\\n#for the last image in the range\\nlength = (xmax - xmin)*434\\nheight = (ymax - ymin)*343\\n\\nprint ('length=',length)\\nprint ('height=',height)\\n\\nxmin = output_dict['detection_boxes'][0][0]\\nymin = output_dict['detection_boxes'][0][1]\\nxmax = output_dict['detection_boxes'][0][2]\\nymax = output_dict['detection_boxes'][0][3]\\n\\nxmin = xmin*434\\nymin = ymin*343\\nxmax = xmax*434\\nymax = ymax*343\\n\\nprint ('coordinates are:')\\nprint ('xmin=', xmin)\\nprint ('ymin=', ymin)\\nprint ('xmax=', xmax)\\nprint ('ymax=', ymax)\\n\""
      ]
     },
     "execution_count": 18,
     "metadata": {},
     "output_type": "execute_result"
    }
   ],
   "source": [
    "'''\n",
    "#for the last image in the range\n",
    "length = (xmax - xmin)*434\n",
    "height = (ymax - ymin)*343\n",
    "\n",
    "print ('length=',length)\n",
    "print ('height=',height)\n",
    "\n",
    "xmin = output_dict['detection_boxes'][0][0]\n",
    "ymin = output_dict['detection_boxes'][0][1]\n",
    "xmax = output_dict['detection_boxes'][0][2]\n",
    "ymax = output_dict['detection_boxes'][0][3]\n",
    "\n",
    "xmin = xmin*434\n",
    "ymin = ymin*343\n",
    "xmax = xmax*434\n",
    "ymax = ymax*343\n",
    "\n",
    "print ('coordinates are:')\n",
    "print ('xmin=', xmin)\n",
    "print ('ymin=', ymin)\n",
    "print ('xmax=', xmax)\n",
    "print ('ymax=', ymax)\n",
    "'''"
   ]
  },
  {
   "cell_type": "code",
   "execution_count": null,
   "metadata": {},
   "outputs": [],
   "source": []
  }
 ],
 "metadata": {
  "colab": {
   "default_view": {},
   "name": "object_detection_tutorial.ipynb?workspaceId=ronnyvotel:python_inference::citc",
   "provenance": [],
   "version": "0.3.2",
   "views": {}
  },
  "kernelspec": {
   "display_name": "Python 3",
   "language": "python",
   "name": "python3"
  },
  "language_info": {
   "codemirror_mode": {
    "name": "ipython",
    "version": 3
   },
   "file_extension": ".py",
   "mimetype": "text/x-python",
   "name": "python",
   "nbconvert_exporter": "python",
   "pygments_lexer": "ipython3",
   "version": "3.7.3"
  }
 },
 "nbformat": 4,
 "nbformat_minor": 1
}
